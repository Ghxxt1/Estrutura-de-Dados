{
  "nbformat": 4,
  "nbformat_minor": 0,
  "metadata": {
    "colab": {
      "provenance": [],
      "toc_visible": true,
      "authorship_tag": "ABX9TyPz1wpVMB9M7t3e1LVVkVvf",
      "include_colab_link": true
    },
    "kernelspec": {
      "name": "python3",
      "display_name": "Python 3"
    },
    "language_info": {
      "name": "python"
    }
  },
  "cells": [
    {
      "cell_type": "markdown",
      "metadata": {
        "id": "view-in-github",
        "colab_type": "text"
      },
      "source": [
        "<a href=\"https://colab.research.google.com/github/Ghxxt1/Estrutura-de-Dados/blob/main/Untitled0.ipynb\" target=\"_parent\"><img src=\"https://colab.research.google.com/assets/colab-badge.svg\" alt=\"Open In Colab\"/></a>"
      ]
    },
    {
      "cell_type": "code",
      "execution_count": null,
      "metadata": {
        "id": "ELxyvWvoJUgc"
      },
      "outputs": [],
      "source": [
        "1 Introdução às Listas Dinâmicas\n",
        "Listas Estáticas vs. Dinâmicas:\n",
        "•\tEstáticas (Arrays): Tamanho fixo, dificultando a adaptação a mudanças no número de elementos.\n",
        "•\tDinâmicas: Tamanho flexível, com alocação e liberação de memória conforme necessário.\n",
        "Vantagens e Desvantagens:\n",
        "•\tVantagens: Flexibilidade e eficiência no uso de memória.\n",
        "•\tDesvantagens: Maior complexidade e custo para gerenciar ponteiros e memória.\n",
        "2 Estrutura de uma Lista Dinâmica\n",
        "A lista dinâmica é formada por nós, onde cada nó contém:\n",
        "•\tDado: O valor armazenado.\n",
        "•\tPonteiro: Aponta para o próximo nó, criando o encadeamento.\n",
        "Representação típica de um nó:\n",
        "struct No {\n",
        "    int dado;\n",
        "    struct No* proximo;\n",
        "};\n",
        "3 Operações Básicas\n",
        "Criação e Inicialização: Uma lista começa com um ponteiro NULL, indicando que está vazia.\n",
        "struct No* lista = NULL;  // Lista vazia\n",
        "Inserção: A inserção no início da lista envolve a alocação de memória para um novo nó e a atualização do ponteiro da lista.\n",
        "void inserir_inicio(struct No** lista, int valor) {\n",
        "    struct No* novo = (struct No*) malloc(sizeof(struct No));\n",
        "    novo->dado = valor;\n",
        "    novo->proximo = *lista;\n",
        "    *lista = novo;\n",
        "}\n",
        "Remoção: A remoção do início da lista envolve a atualização do ponteiro da lista para o próximo nó e a liberação da memória do nó removido.\n",
        "void remover_inicio(struct No** lista) {\n",
        "    if (*lista != NULL) {\n",
        "        struct No* temp = *lista;\n",
        "        *lista = (*lista)->proximo;\n",
        "        free(temp);\n",
        "    }\n",
        "}\n",
        "4 Implementação em C\n",
        "Exemplo simples de implementação de uma lista dinâmica com inserção e remoção:\n",
        "#include <stdio.h>\n",
        "#include <stdlib.h>\n",
        "\n",
        "struct No {\n",
        "    int dado;\n",
        "    struct No* proximo;\n",
        "};\n",
        "\n",
        "void inserir_inicio(struct No** lista, int valor) {\n",
        "    struct No* novo = (struct No*) malloc(sizeof(struct No));\n",
        "    novo->dado = valor;\n",
        "    novo->proximo = *lista;\n",
        "    *lista = novo;\n",
        "}\n",
        "\n",
        "void remover_inicio(struct No** lista) {\n",
        "    if (*lista != NULL) {\n",
        "        struct No* temp = *lista;\n",
        "        *lista = (*lista)->proximo;\n",
        "        free(temp);\n",
        "    }\n",
        "}\n",
        "\n",
        "void imprimir_lista(struct No* lista) {\n",
        "    struct No* temp = lista;\n",
        "    while (temp != NULL) {\n",
        "        printf(\"%d -> \", temp->dado);\n",
        "        temp = temp->proximo;\n",
        "    }\n",
        "    printf(\"NULL\\n\");\n",
        "}\n",
        "\n",
        "int main() {\n",
        "    struct No* lista = NULL;\n",
        "    inserir_inicio(&lista, 10);\n",
        "    inserir_inicio(&lista, 20);\n",
        "    imprimir_lista(lista);\n",
        "    remover_inicio(&lista);\n",
        "    imprimir_lista(lista);\n",
        "    return 0;\n",
        "}\n",
        "5 Referências: Livro: Victorine Viviane Mizrahi, Treinamento em Linguagem C.\n"
      ]
    }
  ]
}
